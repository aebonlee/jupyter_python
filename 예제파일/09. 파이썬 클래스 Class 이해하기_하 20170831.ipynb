{
 "cells": [
  {
   "cell_type": "markdown",
   "metadata": {},
   "source": [
    "## 예제 9-38  :   부모 클래스의 초기화 모듈을 이용\n"
   ]
  },
  {
   "cell_type": "code",
   "execution_count": 2,
   "metadata": {
    "collapsed": true
   },
   "outputs": [],
   "source": [
    "class Parent :\n",
    "    def __init__(self,name,age) :\n",
    "        self.name = name\n",
    "        self.age  = age\n",
    "        \n",
    "class Child(Parent) :\n",
    "    pass"
   ]
  },
  {
   "cell_type": "code",
   "execution_count": 9,
   "metadata": {
    "collapsed": false
   },
   "outputs": [
    {
     "name": "stdout",
     "output_type": "stream",
     "text": [
      "mappingproxy({'__dict__': <attribute '__dict__' of 'Parent' objects>,\n",
      "              '__doc__': None,\n",
      "              '__init__': <function Parent.__init__ at 0x0000000004ADC2F0>,\n",
      "              '__module__': '__main__',\n",
      "              '__weakref__': <attribute '__weakref__' of 'Parent' objects>})\n"
     ]
    }
   ],
   "source": [
    "import pprint\n",
    "\n",
    "pprint.pprint(Parent.__dict__)"
   ]
  },
  {
   "cell_type": "code",
   "execution_count": 8,
   "metadata": {
    "collapsed": false
   },
   "outputs": [
    {
     "name": "stdout",
     "output_type": "stream",
     "text": [
      "mappingproxy({'__module__': '__main__', '__doc__': None})\n"
     ]
    }
   ],
   "source": [
    "import pprint\n",
    "\n",
    "pprint.pprint(Child.__dict__)"
   ]
  },
  {
   "cell_type": "code",
   "execution_count": 4,
   "metadata": {
    "collapsed": false
   },
   "outputs": [
    {
     "name": "stdout",
     "output_type": "stream",
     "text": [
      "<__main__.Child object at 0x0000000004AE4438>\n",
      "{'name': '자식', 'age': 33}\n"
     ]
    }
   ],
   "source": [
    "c = Child(\"자식\",33)\n",
    "print(c)\n",
    "print(c.__dict__)"
   ]
  },
  {
   "cell_type": "markdown",
   "metadata": {},
   "source": [
    "## 예제 9-39  :  상속관계 확인하기"
   ]
  },
  {
   "cell_type": "code",
   "execution_count": 11,
   "metadata": {
    "collapsed": true
   },
   "outputs": [],
   "source": [
    "class GrandParent :\n",
    "    def __init__(self,name,age) :\n",
    "        self.name = name\n",
    "        self.age  = age\n",
    "\n",
    "class Parent(GrandParent) :\n",
    "    pass\n",
    "\n",
    "class Child(Parent) :\n",
    "    pass"
   ]
  },
  {
   "cell_type": "code",
   "execution_count": 16,
   "metadata": {
    "collapsed": false
   },
   "outputs": [
    {
     "name": "stdout",
     "output_type": "stream",
     "text": [
      "(<class 'object'>,)\n",
      "(<class '__main__.GrandParent'>,)\n",
      "(<class '__main__.Parent'>,)\n"
     ]
    }
   ],
   "source": [
    "print(GrandParent.__bases__)\n",
    "print(Parent.__bases__)\n",
    "print(Child.__bases__)"
   ]
  },
  {
   "cell_type": "code",
   "execution_count": 15,
   "metadata": {
    "collapsed": false
   },
   "outputs": [
    {
     "name": "stdout",
     "output_type": "stream",
     "text": [
      "True\n",
      "True\n",
      "True\n"
     ]
    }
   ],
   "source": [
    "print(issubclass(Parent, GrandParent))\n",
    "print(issubclass(Child, Parent))\n",
    "print(issubclass(Child, GrandParent))"
   ]
  },
  {
   "cell_type": "markdown",
   "metadata": {
    "collapsed": true
   },
   "source": [
    "## 예제 9-40  :   상속에 따른 네임스페이스 검색 \n"
   ]
  },
  {
   "cell_type": "code",
   "execution_count": 1,
   "metadata": {
    "collapsed": true
   },
   "outputs": [],
   "source": [
    "class A :\n",
    "    A_cls = \"A 클래스 속성\"\n",
    "    \n",
    "class B(A) :\n",
    "    pass\n",
    "\n",
    "class C(A) :\n",
    "    pass\n"
   ]
  },
  {
   "cell_type": "code",
   "execution_count": 3,
   "metadata": {
    "collapsed": false
   },
   "outputs": [
    {
     "name": "stdout",
     "output_type": "stream",
     "text": [
      "A 클래스 속성\n",
      "A 클래스 속성\n"
     ]
    }
   ],
   "source": [
    "print(B.A_cls)\n",
    "print(C.A_cls)"
   ]
  },
  {
   "cell_type": "code",
   "execution_count": 5,
   "metadata": {
    "collapsed": false
   },
   "outputs": [
    {
     "name": "stdout",
     "output_type": "stream",
     "text": [
      "B 클래스 속성\n",
      "A 클래스 속성\n"
     ]
    }
   ],
   "source": [
    "B.A_cls = \"B 클래스 속성\"\n",
    "\n",
    "print(B.A_cls)\n",
    "print(C.A_cls)"
   ]
  },
  {
   "cell_type": "code",
   "execution_count": 7,
   "metadata": {
    "collapsed": false
   },
   "outputs": [
    {
     "name": "stdout",
     "output_type": "stream",
     "text": [
      "mappingproxy({'A_cls': 'A 클래스 속성',\n",
      "              '__dict__': <attribute '__dict__' of 'A' objects>,\n",
      "              '__doc__': None,\n",
      "              '__module__': '__main__',\n",
      "              '__weakref__': <attribute '__weakref__' of 'A' objects>})\n"
     ]
    }
   ],
   "source": [
    "import pprint\n",
    "\n",
    "pprint.pprint(A.__dict__)"
   ]
  },
  {
   "cell_type": "code",
   "execution_count": 8,
   "metadata": {
    "collapsed": false
   },
   "outputs": [
    {
     "name": "stdout",
     "output_type": "stream",
     "text": [
      "mappingproxy({'__module__': '__main__', '__doc__': None, 'A_cls': 'B 클래스 속성'})\n"
     ]
    }
   ],
   "source": [
    "import pprint\n",
    "\n",
    "pprint.pprint(B.__dict__)"
   ]
  },
  {
   "cell_type": "markdown",
   "metadata": {},
   "source": [
    "## 예제 9-41  :   __init_subclass__ 클래스 메소드\n"
   ]
  },
  {
   "cell_type": "code",
   "execution_count": 16,
   "metadata": {
    "collapsed": false
   },
   "outputs": [
    {
     "name": "stdout",
     "output_type": "stream",
     "text": [
      "Help on built-in function __init_subclass__:\n",
      "\n",
      "__init_subclass__(...) method of builtins.type instance\n",
      "    This method is called when a class is subclassed.\n",
      "    \n",
      "    The default implementation does nothing. It may be\n",
      "    overridden to extend subclasses.\n",
      "\n"
     ]
    }
   ],
   "source": [
    "help(object.__init_subclass__)"
   ]
  },
  {
   "cell_type": "code",
   "execution_count": 17,
   "metadata": {
    "collapsed": false
   },
   "outputs": [
    {
     "name": "stdout",
     "output_type": "stream",
     "text": [
      "<class 'type'> <class '__main__.Sub'>\n",
      "sub\n"
     ]
    }
   ],
   "source": [
    "class Super :\n",
    "    def __init_subclass__(cls,name) :\n",
    "        print(type(cls),cls)\n",
    "        cls.name = name\n",
    "        \n",
    "        \n",
    "class Sub(Super, name=\"sub\") :\n",
    "    pass\n",
    "\n",
    "print(Sub.name)\n"
   ]
  },
  {
   "cell_type": "code",
   "execution_count": 18,
   "metadata": {
    "collapsed": false
   },
   "outputs": [
    {
     "name": "stdout",
     "output_type": "stream",
     "text": [
      "mappingproxy({'__dict__': <attribute '__dict__' of 'Super' objects>,\n",
      "              '__doc__': None,\n",
      "              '__init_subclass__': <classmethod object at 0x10eb204e0>,\n",
      "              '__module__': '__main__',\n",
      "              '__weakref__': <attribute '__weakref__' of 'Super' objects>})\n"
     ]
    }
   ],
   "source": [
    "import pprint\n",
    "\n",
    "pprint.pprint(Super.__dict__)"
   ]
  },
  {
   "cell_type": "code",
   "execution_count": 19,
   "metadata": {
    "collapsed": false
   },
   "outputs": [
    {
     "name": "stdout",
     "output_type": "stream",
     "text": [
      "mappingproxy({'__module__': '__main__', '__doc__': None, 'name': 'sub'})\n"
     ]
    }
   ],
   "source": [
    "import pprint\n",
    "\n",
    "pprint.pprint(Sub.__dict__)"
   ]
  },
  {
   "cell_type": "markdown",
   "metadata": {},
   "source": [
    "## 예제 9-42  :  다중 상속 Class 정의 및 읽는 순서 확인하기\n"
   ]
  },
  {
   "cell_type": "code",
   "execution_count": 24,
   "metadata": {
    "collapsed": true
   },
   "outputs": [],
   "source": [
    "class Parent1 :\n",
    "    def __init__(self,name) :\n",
    "        print(\" Parent1 \")\n",
    "        self.name = name\n",
    "\n",
    "class Parent2 :\n",
    "     def __init__(self,name) :\n",
    "        print(\" Parent2 \")\n",
    "        self.name = name\n",
    "\n",
    "class Child(Parent1, Parent2) :\n",
    "    pass"
   ]
  },
  {
   "cell_type": "code",
   "execution_count": 27,
   "metadata": {
    "collapsed": false
   },
   "outputs": [
    {
     "name": "stdout",
     "output_type": "stream",
     "text": [
      "[<class '__main__.Child'>,\n",
      " <class '__main__.Parent1'>,\n",
      " <class '__main__.Parent2'>,\n",
      " <class 'object'>]\n"
     ]
    }
   ],
   "source": [
    "import pprint\n",
    "\n",
    "pprint.pprint(Child.mro())"
   ]
  },
  {
   "cell_type": "code",
   "execution_count": 28,
   "metadata": {
    "collapsed": false
   },
   "outputs": [
    {
     "name": "stdout",
     "output_type": "stream",
     "text": [
      " Parent1 \n"
     ]
    }
   ],
   "source": [
    "c = Child(\"다중상속\")\n"
   ]
  },
  {
   "cell_type": "markdown",
   "metadata": {},
   "source": [
    "## 예제 9-43  :  다른 부모 클래스의 __init__ 메소드를 사용하고 싶을 경우\n",
    "\n"
   ]
  },
  {
   "cell_type": "code",
   "execution_count": 49,
   "metadata": {
    "collapsed": true
   },
   "outputs": [],
   "source": [
    "class Parent1 :\n",
    "    def __init__(self,name) :\n",
    "        print(\" Parent1 \")\n",
    "        self.name = name\n",
    "\n",
    "class Parent2 :\n",
    "     def __init__(self,name,age) :\n",
    "        print(\" Parent2 \")\n",
    "        self.name = name\n",
    "        self.age = age\n",
    "\n",
    "class Child2(Parent1, Parent2) :\n",
    "    \n",
    "    def __init__(self,name, age=None) :\n",
    "        if age is None :\n",
    "            super().__init__(name)\n",
    "        else :\n",
    "            Parent2.__init__(self,name,age)\n",
    "            "
   ]
  },
  {
   "cell_type": "code",
   "execution_count": 50,
   "metadata": {
    "collapsed": false
   },
   "outputs": [
    {
     "name": "stdout",
     "output_type": "stream",
     "text": [
      " Parent1 \n",
      "{'name': '다중상속'}\n"
     ]
    }
   ],
   "source": [
    "c1 = Child2(\"다중상속\")\n",
    "print(c1.__dict__)"
   ]
  },
  {
   "cell_type": "code",
   "execution_count": 51,
   "metadata": {
    "collapsed": false
   },
   "outputs": [
    {
     "name": "stdout",
     "output_type": "stream",
     "text": [
      " Parent2 \n",
      "{'name': '다중상속', 'age': 33}\n"
     ]
    }
   ],
   "source": [
    "c2 = Child2(\"다중상속\", 33)\n",
    "print(c2.__dict__)"
   ]
  },
  {
   "cell_type": "markdown",
   "metadata": {},
   "source": [
    "## 예제 9-44  :  super 클래스 이해하기 \n"
   ]
  },
  {
   "cell_type": "code",
   "execution_count": 71,
   "metadata": {
    "collapsed": false
   },
   "outputs": [
    {
     "name": "stdout",
     "output_type": "stream",
     "text": [
      " AAA \n"
     ]
    }
   ],
   "source": [
    "class A :\n",
    "    A_cls = \" AAA \"\n",
    "\n",
    "class B(A) :\n",
    "    A_cls = \" BBB \"\n",
    "\n",
    "print(super(B,B()).A_cls)\n"
   ]
  },
  {
   "cell_type": "code",
   "execution_count": 73,
   "metadata": {
    "collapsed": false
   },
   "outputs": [
    {
     "name": "stdout",
     "output_type": "stream",
     "text": [
      "{'name': '슈퍼우먼', 'age': 33}\n"
     ]
    }
   ],
   "source": [
    "class A :\n",
    "    def __init__(self,name) :\n",
    "        self.name = name\n",
    "\n",
    "class B(A) :\n",
    "     def __init__(self,name,age) :\n",
    "        super().__init__(name)\n",
    "        self.age = age\n",
    "        \n",
    "b = B(\"슈퍼우먼\", 33)\n",
    "print(b.__dict__)"
   ]
  },
  {
   "cell_type": "code",
   "execution_count": 98,
   "metadata": {
    "collapsed": false
   },
   "outputs": [
    {
     "name": "stdout",
     "output_type": "stream",
     "text": [
      "{'name': '슈퍼우먼', 'age': 33}\n",
      "{'name': '수퍼맨'}\n"
     ]
    }
   ],
   "source": [
    "class A :\n",
    "    def __init__(self,name) :\n",
    "        self.name = name\n",
    "        \n",
    "class B :\n",
    "    def __init__(self,name,age) :\n",
    "        self.name = name\n",
    "        self.age = age\n",
    "\n",
    "class C(A,B) :\n",
    "     def __init__(self,name,age=None) :\n",
    "        super().__init__(name)\n",
    "        if age :\n",
    "            C.mro()[2].__init__(self,name,age)\n",
    "\n",
    "        \n",
    "c = C(\"슈퍼우먼\", 33)\n",
    "print(c.__dict__)\n",
    "\n",
    "c2 = C(\"수퍼맨\")\n",
    "print(c2.__dict__)"
   ]
  },
  {
   "cell_type": "markdown",
   "metadata": {
    "collapsed": true
   },
   "source": [
    "## 예제 9-45  :  Mixin 클래스 하나를 상속처리\n"
   ]
  },
  {
   "cell_type": "code",
   "execution_count": 53,
   "metadata": {
    "collapsed": true
   },
   "outputs": [],
   "source": [
    "import operator as op\n",
    "\n",
    "class OpMixin :\n",
    "    \n",
    "    def aroper(self,op_code) :\n",
    "        return {'+':op.add,\n",
    "                '*':op.mul}[op_code]  \\\n",
    "               (self.x, self.y if type(self.y) not in [str,list, tuple]  \\\n",
    "                               else  self.y if op_code != \"*\" \n",
    "                                            else len(self.y))\n",
    "    "
   ]
  },
  {
   "cell_type": "code",
   "execution_count": 54,
   "metadata": {
    "collapsed": true
   },
   "outputs": [],
   "source": [
    "class Num(OpMixin) :\n",
    "    def __init__(self, x,y) :\n",
    "        self.x = x\n",
    "        self.y = y\n"
   ]
  },
  {
   "cell_type": "code",
   "execution_count": 55,
   "metadata": {
    "collapsed": true
   },
   "outputs": [],
   "source": [
    "class STR(OpMixin) :\n",
    "    def __init__(self, x,y) :\n",
    "        self.x = x\n",
    "        self.y = y"
   ]
  },
  {
   "cell_type": "code",
   "execution_count": 58,
   "metadata": {
    "collapsed": true
   },
   "outputs": [],
   "source": [
    "class LIST(OpMixin) :\n",
    "    def __init__(self, x,y) :\n",
    "        self.x = x\n",
    "        self.y = y"
   ]
  },
  {
   "cell_type": "code",
   "execution_count": 56,
   "metadata": {
    "collapsed": false
   },
   "outputs": [
    {
     "name": "stdout",
     "output_type": "stream",
     "text": [
      "11\n",
      "30\n"
     ]
    }
   ],
   "source": [
    "n = Num(5,6)\n",
    "\n",
    "print(n.aroper(\"+\"))\n",
    "print(n.aroper(\"*\"))"
   ]
  },
  {
   "cell_type": "code",
   "execution_count": 61,
   "metadata": {
    "collapsed": false
   },
   "outputs": [
    {
     "name": "stdout",
     "output_type": "stream",
     "text": [
      "HelloWorld\n",
      "HelloHelloHelloHelloHello\n"
     ]
    }
   ],
   "source": [
    "s = STR(\"Hello\",\"World\")\n",
    "\n",
    "print(s.aroper(\"+\"))\n",
    "print(s.aroper(\"*\"))"
   ]
  },
  {
   "cell_type": "code",
   "execution_count": 60,
   "metadata": {
    "collapsed": false
   },
   "outputs": [
    {
     "name": "stdout",
     "output_type": "stream",
     "text": [
      "[1, 2, 3, 4, 6, 7]\n",
      "[1, 2, 3, 4, 1, 2, 3, 4]\n"
     ]
    }
   ],
   "source": [
    "l = LIST([1,2,3,4],[6,7])\n",
    "\n",
    "print(l.aroper(\"+\"))\n",
    "print(l.aroper(\"*\"))"
   ]
  },
  {
   "cell_type": "markdown",
   "metadata": {},
   "source": [
    "## 예제 9-46  :  여러 Mixin 클래스에 동일한 메소드"
   ]
  },
  {
   "cell_type": "code",
   "execution_count": 63,
   "metadata": {
    "collapsed": true
   },
   "outputs": [],
   "source": [
    "class AMixin :\n",
    "    def method(self) :\n",
    "        return \"A Mixin\"\n",
    "    \n",
    "class BMixin :\n",
    "    def method(self) :\n",
    "        return \"B Mixin\""
   ]
  },
  {
   "cell_type": "code",
   "execution_count": 64,
   "metadata": {
    "collapsed": true
   },
   "outputs": [],
   "source": [
    "class A(AMixin, BMixin) :\n",
    "    pass "
   ]
  },
  {
   "cell_type": "code",
   "execution_count": 65,
   "metadata": {
    "collapsed": false
   },
   "outputs": [
    {
     "name": "stdout",
     "output_type": "stream",
     "text": [
      "A Mixin\n"
     ]
    }
   ],
   "source": [
    "a = A()\n",
    "print(a.method())"
   ]
  },
  {
   "cell_type": "code",
   "execution_count": 66,
   "metadata": {
    "collapsed": true
   },
   "outputs": [],
   "source": [
    "class AB(AMixin, BMixin) :\n",
    "    def __init__(self,code) :\n",
    "        self.code = code\n",
    "        \n",
    "    def method(self) :\n",
    "        if self.code == \"B\" :\n",
    "            return BMixin.method(self)\n",
    "        else :\n",
    "            return AMixin.method(self)"
   ]
  },
  {
   "cell_type": "code",
   "execution_count": 67,
   "metadata": {
    "collapsed": false
   },
   "outputs": [
    {
     "name": "stdout",
     "output_type": "stream",
     "text": [
      "B Mixin\n"
     ]
    }
   ],
   "source": [
    "ab = AB(\"B\")\n",
    "print(ab.method())"
   ]
  },
  {
   "cell_type": "markdown",
   "metadata": {},
   "source": [
    "## 예제 9-47  :  Mixin 클래스  다중상속 처리 :  다른 메소드 이름\n"
   ]
  },
  {
   "cell_type": "code",
   "execution_count": 1,
   "metadata": {
    "collapsed": true
   },
   "outputs": [],
   "source": [
    "class AMixin :\n",
    "    def getname(self) :\n",
    "        return self.name\n",
    "    \n",
    "class BMixin :\n",
    "    def getage(self) :\n",
    "        return self.age"
   ]
  },
  {
   "cell_type": "code",
   "execution_count": 2,
   "metadata": {
    "collapsed": true
   },
   "outputs": [],
   "source": [
    "class AB(AMixin, BMixin) :\n",
    "    def __init__(self,name,age) :\n",
    "        self.name = name\n",
    "        self.age = age"
   ]
  },
  {
   "cell_type": "code",
   "execution_count": 4,
   "metadata": {
    "collapsed": false
   },
   "outputs": [
    {
     "name": "stdout",
     "output_type": "stream",
     "text": [
      "다중상속\n",
      "33\n"
     ]
    }
   ],
   "source": [
    "ab = AB(\"다중상속\",33)\n",
    "print(ab.getname())\n",
    "print(ab.getage())"
   ]
  },
  {
   "cell_type": "markdown",
   "metadata": {},
   "source": [
    "## 예제 9-48  :   부모 클래스의 메소드를 오버라이딩  \n"
   ]
  },
  {
   "cell_type": "code",
   "execution_count": 11,
   "metadata": {
    "collapsed": true
   },
   "outputs": [],
   "source": [
    "class Parent1 :\n",
    "    def __init__(self,name) :\n",
    "        print(\" Parent1 \")\n",
    "        self.name = name\n",
    "    def getname(self) :\n",
    "        return self.name\n",
    "\n",
    "class Parent2 :\n",
    "    def __init__(self,age) :\n",
    "        print(\" Parent2 \")\n",
    "        self.age = age\n",
    "    def getage(self) :\n",
    "        return self.age\n",
    "                 "
   ]
  },
  {
   "cell_type": "code",
   "execution_count": 19,
   "metadata": {
    "collapsed": false
   },
   "outputs": [],
   "source": [
    "class Child2(Parent1, Parent2) :\n",
    "    \n",
    "    def __init__(self,name, age=None) :\n",
    "        super().__init__(name)\n",
    "        if age is not None :\n",
    "            Parent2.__init__(self,age)\n",
    "            \n",
    "    def getname(self) :\n",
    "        return \"child \" + self.name\n",
    "    def getage(self) :\n",
    "        return \"child \" + str(self.age)\n",
    "            "
   ]
  },
  {
   "cell_type": "code",
   "execution_count": 21,
   "metadata": {
    "collapsed": false
   },
   "outputs": [
    {
     "name": "stdout",
     "output_type": "stream",
     "text": [
      " Parent1 \n",
      " Parent2 \n",
      "child 오버라이딩\n",
      "child 33\n",
      "오버라이딩\n",
      "33\n"
     ]
    }
   ],
   "source": [
    "c = Child2(\"오버라이딩\", 33) \n",
    "\n",
    "print(c.getname())\n",
    "print(c.getage())\n",
    "\n",
    "print(Parent1.getname(c))\n",
    "print(Parent2.getage(c))"
   ]
  },
  {
   "cell_type": "markdown",
   "metadata": {},
   "source": [
    "## 예제 9-49  :  overload 모듈을 이용\n"
   ]
  },
  {
   "cell_type": "code",
   "execution_count": 4,
   "metadata": {
    "collapsed": false
   },
   "outputs": [
    {
     "name": "stdout",
     "output_type": "stream",
     "text": [
      "Collecting overload\n",
      "  Using cached overload-1.1.tar.gz\n",
      "Building wheels for collected packages: overload\n",
      "  Running setup.py bdist_wheel for overload: started\n",
      "  Running setup.py bdist_wheel for overload: finished with status 'done'\n",
      "  Stored in directory: C:\\Users\\06411\\AppData\\Local\\pip\\Cache\\wheels\\84\\11\\4f\\398b5a199ac6da983db67bbf794d8fd793f3c53da1254f74f4\n",
      "Successfully built overload\n",
      "Installing collected packages: overload\n",
      "Successfully installed overload-1.1\n"
     ]
    }
   ],
   "source": [
    "!pip install --upgrade overload"
   ]
  },
  {
   "cell_type": "code",
   "execution_count": 5,
   "metadata": {
    "collapsed": false
   },
   "outputs": [],
   "source": [
    "from overload import overload\n",
    "\n",
    "class A :\n",
    "    @overload\n",
    "    def method(self) :\n",
    "        print(\" no args method \")\n",
    "        \n",
    "    @method.add\n",
    "    def method(self, x) :\n",
    "        print(\" one args method \"+ x)\n",
    "    \n",
    "    @method.add\n",
    "    def method(self, x,y) :\n",
    "        print(\" two args method \"+ x,y)\n",
    "        \n"
   ]
  },
  {
   "cell_type": "code",
   "execution_count": 6,
   "metadata": {
    "collapsed": false
   },
   "outputs": [
    {
     "name": "stdout",
     "output_type": "stream",
     "text": [
      " no args method \n",
      " one args method hello\n",
      " two args method hello world\n"
     ]
    }
   ],
   "source": [
    "a = A()\n",
    "\n",
    "a.method()\n",
    "a.method(\"hello\")\n",
    "a.method(\"hello\",\"world\")"
   ]
  },
  {
   "cell_type": "code",
   "execution_count": 8,
   "metadata": {
    "collapsed": false
   },
   "outputs": [
    {
     "name": "stdout",
     "output_type": "stream",
     "text": [
      "mappingproxy({'__dict__': <attribute '__dict__' of 'A' objects>,\n",
      "              '__doc__': None,\n",
      "              '__module__': '__main__',\n",
      "              '__weakref__': <attribute '__weakref__' of 'A' objects>,\n",
      "              'method': <function A.method at 0x0000000004E7EC80>})\n"
     ]
    }
   ],
   "source": [
    "import pprint\n",
    "\n",
    "pprint.pprint(A.__dict__)"
   ]
  },
  {
   "cell_type": "code",
   "execution_count": 9,
   "metadata": {
    "collapsed": false
   },
   "outputs": [
    {
     "name": "stdout",
     "output_type": "stream",
     "text": [
      "<class 'function'>\n",
      "{'__wrapped__': <function A.method at 0x0000000004E7AE18>,\n",
      " 'add': <function overload.<locals>.add at 0x0000000004E7ED08>}\n"
     ]
    }
   ],
   "source": [
    "print(type(A.method))\n",
    "pprint.pprint(A.method.__dict__)"
   ]
  },
  {
   "cell_type": "markdown",
   "metadata": {},
   "source": [
    "## 예제 9-50  :   연산자 오버로딩 이해하기"
   ]
  },
  {
   "cell_type": "code",
   "execution_count": 5,
   "metadata": {
    "collapsed": true
   },
   "outputs": [],
   "source": [
    "class Person :\n",
    "    def __init__(self,name,age) :\n",
    "        self.name = name\n",
    "        self.age = age\n",
    "        \n",
    "class Parent(Person) :\n",
    "    def __init__(self,name,age) :\n",
    "        print(\" Parent class \")\n",
    "        self.name = name\n",
    "        self.age  = age\n",
    "        \n",
    "class Child(Person) :\n",
    "     def __init__(self,name,age) :\n",
    "        print(\" Child class \")\n",
    "        self.name = name\n",
    "        self.age  = age"
   ]
  },
  {
   "cell_type": "code",
   "execution_count": 6,
   "metadata": {
    "collapsed": false
   },
   "outputs": [
    {
     "name": "stdout",
     "output_type": "stream",
     "text": [
      " Parent class \n",
      " Child class \n"
     ]
    }
   ],
   "source": [
    "p = Parent(\"서희\",55)\n",
    "c = Child(\"서준\",17)"
   ]
  },
  {
   "cell_type": "code",
   "execution_count": 19,
   "metadata": {
    "collapsed": true
   },
   "outputs": [],
   "source": [
    "class Person :\n",
    "    def __init__(self,name,age) :\n",
    "        print(\" Person class \")\n",
    "        self.name = name\n",
    "        self.age = age\n",
    "        \n",
    "class Parent(Person) :\n",
    "    def __init__(self,name,age,pa_code) :\n",
    "        super().__init__(name,age)\n",
    "        self.pa_code = pa_code\n",
    "        \n",
    "    def ischild(self,child) :\n",
    "        return True if self is child.pa_id else False\n",
    "            \n",
    "class Child(Person) :\n",
    "    def __init__(self,name,age,pa_code,pa_id) :\n",
    "        super().__init__(name,age)\n",
    "        self.pa_code = pa_code\n",
    "        self.pa_id = pa_id\n",
    "        \n",
    "    def isparent(self, parent) :\n",
    "        return True if parent is self.pa_id else False"
   ]
  },
  {
   "cell_type": "code",
   "execution_count": 20,
   "metadata": {
    "collapsed": false
   },
   "outputs": [
    {
     "name": "stdout",
     "output_type": "stream",
     "text": [
      " Person class \n",
      " Person class \n",
      "True\n",
      "True\n"
     ]
    }
   ],
   "source": [
    "p = Parent(\"서아빠\",56,\"p\")\n",
    "c = Child('서준',19,\"c\",p)\n",
    "\n",
    "print(p.ischild(c))\n",
    "print(c.isparent(p))"
   ]
  },
  {
   "cell_type": "markdown",
   "metadata": {
    "collapsed": true
   },
   "source": [
    "## 예제 9-51  : 함수 내에서 인터페이스 처리 \n"
   ]
  },
  {
   "cell_type": "code",
   "execution_count": 22,
   "metadata": {
    "collapsed": true
   },
   "outputs": [],
   "source": [
    "class Duck :\n",
    "    def say(self) :\n",
    "        return \"quack quack\"\n",
    "    \n",
    "class Person :\n",
    "    def say(self) :\n",
    "        return \"Hello !\"\n",
    "      "
   ]
  },
  {
   "cell_type": "code",
   "execution_count": 23,
   "metadata": {
    "collapsed": true
   },
   "outputs": [],
   "source": [
    "def say(obj) :\n",
    "    return obj.say()\n"
   ]
  },
  {
   "cell_type": "code",
   "execution_count": 24,
   "metadata": {
    "collapsed": false
   },
   "outputs": [
    {
     "name": "stdout",
     "output_type": "stream",
     "text": [
      "quack quack\n",
      "Hello !\n"
     ]
    }
   ],
   "source": [
    "d = Duck() \n",
    "p = Person() \n",
    "\n",
    "print(say(d))\n",
    "print(say(p))"
   ]
  },
  {
   "cell_type": "markdown",
   "metadata": {},
   "source": [
    "## 예제 9-52 :  class내에서  인터페이스 제공\n"
   ]
  },
  {
   "cell_type": "code",
   "execution_count": 27,
   "metadata": {
    "collapsed": true
   },
   "outputs": [],
   "source": [
    "class Duck :\n",
    "    def say(self) :\n",
    "        return \"quack quack\"\n",
    "    \n",
    "class Person :\n",
    "    def say(self) :\n",
    "        return \"Hello !\""
   ]
  },
  {
   "cell_type": "code",
   "execution_count": 25,
   "metadata": {
    "collapsed": true
   },
   "outputs": [],
   "source": [
    "class Say :\n",
    "    @staticmethod\n",
    "    def say(obj) :\n",
    "        return obj.say()"
   ]
  },
  {
   "cell_type": "code",
   "execution_count": 26,
   "metadata": {
    "collapsed": false
   },
   "outputs": [
    {
     "name": "stdout",
     "output_type": "stream",
     "text": [
      "quack quack\n",
      "Hello !\n"
     ]
    }
   ],
   "source": [
    "d = Duck() \n",
    "p = Person() \n",
    "\n",
    "print(Say.say(d))\n",
    "print(Say.say(p))"
   ]
  },
  {
   "cell_type": "markdown",
   "metadata": {},
   "source": [
    "## 예제 9-53 :  메타클래스로 클래스 생성하기\n"
   ]
  },
  {
   "cell_type": "code",
   "execution_count": 28,
   "metadata": {
    "collapsed": true
   },
   "outputs": [],
   "source": [
    "import pprint\n",
    "\n",
    "namespace = { 'name' : \"메타클래스로 클래스 생성\"}\n",
    "bases = (object,)\n",
    "classname = \"Klass\"\n",
    "\n",
    "Klass = type(classname, bases, namespace) \n"
   ]
  },
  {
   "cell_type": "code",
   "execution_count": 31,
   "metadata": {
    "collapsed": false
   },
   "outputs": [
    {
     "name": "stdout",
     "output_type": "stream",
     "text": [
      "<class 'type'>\n",
      "<class '__main__.Klass'>\n",
      "mappingproxy({'__dict__': <attribute '__dict__' of 'Klass' objects>,\n",
      "              '__doc__': None,\n",
      "              '__module__': '__main__',\n",
      "              '__weakref__': <attribute '__weakref__' of 'Klass' objects>,\n",
      "              'name': '메타클래스로 클래스 생성'})\n"
     ]
    }
   ],
   "source": [
    "print(type(Klass))\n",
    "print(Klass)\n",
    "pprint.pprint(Klass.__dict__)"
   ]
  },
  {
   "cell_type": "code",
   "execution_count": 32,
   "metadata": {
    "collapsed": false
   },
   "outputs": [
    {
     "name": "stdout",
     "output_type": "stream",
     "text": [
      "<class 'type'>\n",
      "<class '__main__.Klass'>\n",
      "mappingproxy({'__dict__': <attribute '__dict__' of 'Klass' objects>,\n",
      "              '__doc__': None,\n",
      "              '__module__': '__main__',\n",
      "              '__weakref__': <attribute '__weakref__' of 'Klass' objects>,\n",
      "              'name': ' 클래스 정의문으로 클래스 생성'})\n"
     ]
    }
   ],
   "source": [
    "class Klass :\n",
    "    name = \" 클래스 정의문으로 클래스 생성\" \n",
    "    \n",
    "print(type(Klass))\n",
    "print(Klass)\n",
    "pprint.pprint(Klass.__dict__)"
   ]
  },
  {
   "cell_type": "markdown",
   "metadata": {},
   "source": [
    "## 예제 9-54  :  사용자 메타클래스로 변경하기\n"
   ]
  },
  {
   "cell_type": "code",
   "execution_count": 33,
   "metadata": {
    "collapsed": true
   },
   "outputs": [],
   "source": [
    "class MyMeta(type) :\n",
    "    pass\n",
    "\n",
    "class Klass(metaclass=MyMeta) :\n",
    "    pass\n"
   ]
  },
  {
   "cell_type": "code",
   "execution_count": 34,
   "metadata": {
    "collapsed": false
   },
   "outputs": [
    {
     "name": "stdout",
     "output_type": "stream",
     "text": [
      "<class '__main__.Klass'>\n",
      "<class '__main__.MyMeta'>\n"
     ]
    }
   ],
   "source": [
    "print(Klass)\n",
    "print(Klass.__class__)"
   ]
  },
  {
   "cell_type": "code",
   "execution_count": null,
   "metadata": {
    "collapsed": true
   },
   "outputs": [],
   "source": [
    "class A :\n",
    "    def __init__(self) :\n",
    "        self.b = b()\n",
    "        \n"
   ]
  },
  {
   "cell_type": "markdown",
   "metadata": {},
   "source": [
    "## 예제 9-55  : 구성관계 (composition) \n"
   ]
  },
  {
   "cell_type": "code",
   "execution_count": 41,
   "metadata": {
    "collapsed": true
   },
   "outputs": [],
   "source": [
    "class Salary:\n",
    "    def __init__(self,pay):\n",
    "        self.pay=pay\n",
    "\n",
    "    def get_total(self):\n",
    "        return (self.pay*12)\n"
   ]
  },
  {
   "cell_type": "code",
   "execution_count": 42,
   "metadata": {
    "collapsed": true
   },
   "outputs": [],
   "source": [
    "class Employee:\n",
    "    def __init__(self,pay,bonus):\n",
    "        self.pay=pay\n",
    "        self.bonus=bonus\n",
    "        self.obj_salary=Salary(self.pay)\n",
    "\n",
    "    def annual_salary(self):\n",
    "        return \"Total: \"  +  str(self.obj_salary.get_total()+self.bonus)"
   ]
  },
  {
   "cell_type": "code",
   "execution_count": 43,
   "metadata": {
    "collapsed": false
   },
   "outputs": [
    {
     "name": "stdout",
     "output_type": "stream",
     "text": [
      "Total: 1210\n"
     ]
    }
   ],
   "source": [
    "obj_emp=Employee(100,10)\n",
    "print (obj_emp.annual_salary())"
   ]
  },
  {
   "cell_type": "markdown",
   "metadata": {},
   "source": [
    "## 예제 9-56 : 집합 관계(Aggregation) "
   ]
  },
  {
   "cell_type": "code",
   "execution_count": 37,
   "metadata": {
    "collapsed": true
   },
   "outputs": [],
   "source": [
    "class Salary:\n",
    "    def __init__(self,pay):\n",
    "        self.pay=pay\n",
    "\n",
    "    def get_total(self):\n",
    "        return (self.pay*12)\n"
   ]
  },
  {
   "cell_type": "code",
   "execution_count": 38,
   "metadata": {
    "collapsed": true
   },
   "outputs": [],
   "source": [
    "class Employee:\n",
    "    def __init__(self,pay,bonus):\n",
    "        self.pay=pay\n",
    "        self.bonus=bonus\n",
    "\n",
    "    def annual_salary(self):\n",
    "        return \"Total: \"  +  str(self.pay.get_total()+self.bonus)"
   ]
  },
  {
   "cell_type": "code",
   "execution_count": 39,
   "metadata": {
    "collapsed": false
   },
   "outputs": [
    {
     "name": "stdout",
     "output_type": "stream",
     "text": [
      "Total: 1210\n"
     ]
    }
   ],
   "source": [
    "obj_sal=Salary(100)\n",
    "obj_emp=Employee(obj_sal,10)\n",
    "print (obj_emp.annual_salary())"
   ]
  },
  {
   "cell_type": "code",
   "execution_count": 40,
   "metadata": {
    "collapsed": false
   },
   "outputs": [
    {
     "name": "stdout",
     "output_type": "stream",
     "text": [
      "<__main__.Salary object at 0x0000000004E8FB00>\n"
     ]
    }
   ],
   "source": [
    "del obj_emp \n",
    "print(obj_sal)"
   ]
  },
  {
   "cell_type": "markdown",
   "metadata": {},
   "source": [
    "## 예제 9-57  : 위임 메소드를 사용하기\n"
   ]
  },
  {
   "cell_type": "code",
   "execution_count": 44,
   "metadata": {
    "collapsed": true
   },
   "outputs": [],
   "source": [
    "class Person :\n",
    "    def __init__(self,name,age) :\n",
    "        self.name = name\n",
    "        self.age  = age\n",
    "        "
   ]
  },
  {
   "cell_type": "code",
   "execution_count": 45,
   "metadata": {
    "collapsed": true
   },
   "outputs": [],
   "source": [
    "class Student :\n",
    "    def __init__(self, name,age,college) :\n",
    "        self.person = Person(name,age)\n",
    "        self.college = college\n",
    "        "
   ]
  },
  {
   "cell_type": "code",
   "execution_count": 46,
   "metadata": {
    "collapsed": false
   },
   "outputs": [
    {
     "name": "stdout",
     "output_type": "stream",
     "text": [
      "{'person': <__main__.Person object at 0x0000000004E8FA90>, 'college': '숭실대'}\n"
     ]
    }
   ],
   "source": [
    "s = Student(\"연관\",22,\"숭실대\")\n",
    "print(s.__dict__)"
   ]
  },
  {
   "cell_type": "code",
   "execution_count": 47,
   "metadata": {
    "collapsed": true
   },
   "outputs": [],
   "source": [
    "class Person :\n",
    "    def __init__(self,name,age) :\n",
    "        self.name = name\n",
    "        self.age  = age\n",
    "        \n",
    "    def getname(self) :\n",
    "        return self.name\n",
    "    def getage(self) :\n",
    "        return self.age"
   ]
  },
  {
   "cell_type": "code",
   "execution_count": 49,
   "metadata": {
    "collapsed": false
   },
   "outputs": [],
   "source": [
    "class Student :\n",
    "    def __init__(self, name,age,college) :\n",
    "        self.person = Person(name,age)\n",
    "        self.college = college\n",
    "        \n",
    "    def getname(self) :\n",
    "        return self.person.getname()\n",
    "    \n",
    "    def getage(self) :\n",
    "        return self.person.getage()"
   ]
  },
  {
   "cell_type": "code",
   "execution_count": 51,
   "metadata": {
    "collapsed": false
   },
   "outputs": [
    {
     "name": "stdout",
     "output_type": "stream",
     "text": [
      "위임\n",
      "22\n"
     ]
    }
   ],
   "source": [
    "s = Student(\"위임\",22,\"숭실대\")\n",
    "print(s.getname())\n",
    "print(s.getage())"
   ]
  },
  {
   "cell_type": "code",
   "execution_count": null,
   "metadata": {
    "collapsed": true
   },
   "outputs": [],
   "source": []
  }
 ],
 "metadata": {
  "kernelspec": {
   "display_name": "Python 3",
   "language": "python",
   "name": "python3"
  },
  "language_info": {
   "codemirror_mode": {
    "name": "ipython",
    "version": 3
   },
   "file_extension": ".py",
   "mimetype": "text/x-python",
   "name": "python",
   "nbconvert_exporter": "python",
   "pygments_lexer": "ipython3",
   "version": "3.6.0"
  }
 },
 "nbformat": 4,
 "nbformat_minor": 2
}
